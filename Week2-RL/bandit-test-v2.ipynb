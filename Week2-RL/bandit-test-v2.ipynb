{
 "cells": [
  {
   "cell_type": "code",
   "execution_count": 1,
   "metadata": {},
   "outputs": [],
   "source": [
    "import numpy\n",
    "from bandit import *"
   ]
  },
  {
   "cell_type": "code",
   "execution_count": 2,
   "metadata": {},
   "outputs": [],
   "source": [
    "n = 10 # arms of the bandit. In general, (as expected), the avg value/step we predict increases with n\n",
    "samples = 1000 # 2000 in the text\n",
    "stepsize = 50\n",
    "epochs = 10 # for a total of 500 steps"
   ]
  },
  {
   "cell_type": "code",
   "execution_count": 3,
   "metadata": {},
   "outputs": [
    {
     "name": "stdout",
     "output_type": "stream",
     "text": [
      "average (over samples) optimal value/step: 1.527395\n",
      "epsilon: 0\n",
      "After 500 steps, we (on average) predict a value/step of 1.033509, (67.7% optimal)\n",
      "average (over samples) optimal value/step: 1.550446\n",
      "epsilon: 0.01\n",
      "After 500 steps, we (on average) predict a value/step of 1.226887, (79.1% optimal)\n",
      "average (over samples) optimal value/step: 1.569618\n",
      "epsilon: 0.05\n",
      "After 500 steps, we (on average) predict a value/step of 1.414762, (90.1% optimal)\n",
      "average (over samples) optimal value/step: 1.537605\n",
      "epsilon: 0.1\n",
      "After 500 steps, we (on average) predict a value/step of 1.341445, (87.2% optimal)\n",
      "average (over samples) optimal value/step: 1.571179\n",
      "epsilon: 0.2\n",
      "After 500 steps, we (on average) predict a value/step of 1.239833, (78.9% optimal)\n",
      "average (over samples) optimal value/step: 1.519340\n",
      "epsilon: 0.5\n",
      "After 500 steps, we (on average) predict a value/step of 0.759143, (50.0% optimal)\n",
      "average (over samples) optimal value/step: 1.535226\n",
      "epsilon: 0.7\n",
      "After 500 steps, we (on average) predict a value/step of 0.441620, (28.8% optimal)\n",
      "average (over samples) optimal value/step: 1.524604\n",
      "epsilon: 1.0\n",
      "After 500 steps, we (on average) predict a value/step of 0.006727, (0.4% optimal)\n"
     ]
    }
   ],
   "source": [
    "# testing the eps-greedy bandit.\n",
    "epsilons = [0, 0.01, 0.05, 0.1, 0.2, 0.5, 0.7, 1.0]\n",
    "for eps in epsilons:\n",
    "    eps_greedy_bandit.test(n, stepsize=stepsize, samples=samples, epochs=epochs, verbose=0, eps=eps, learn_type='sample-average')"
   ]
  },
  {
   "cell_type": "code",
   "execution_count": 4,
   "metadata": {},
   "outputs": [
    {
     "name": "stdout",
     "output_type": "stream",
     "text": [
      "average (over samples) optimal value/step: 1.576145\n",
      "epsilon: 0\n",
      "After 500 steps, we (on average) predict a value/step of 1.466252, (93.0% optimal)\n",
      "average (over samples) optimal value/step: 1.527741\n",
      "epsilon: 0.01\n",
      "After 500 steps, we (on average) predict a value/step of 1.420591, (93.0% optimal)\n",
      "average (over samples) optimal value/step: 1.527894\n",
      "epsilon: 0.05\n",
      "After 500 steps, we (on average) predict a value/step of 1.393965, (91.2% optimal)\n",
      "average (over samples) optimal value/step: 1.578729\n",
      "epsilon: 0.1\n",
      "After 500 steps, we (on average) predict a value/step of 1.389156, (88.0% optimal)\n"
     ]
    }
   ],
   "source": [
    "# testing the better bandits on optimistic initial values\n",
    "for eps in epsilons[:4]:\n",
    "    eps_greedy_bandit.test(n, stepsize=stepsize, samples=samples, epochs=epochs, verbose=0, eps=eps, learn_type='sample-average', optimistic=True)\n",
    "\n",
    "# observation: after incorporating the optimistic initial values, it is not useful to still continue to choose states probabilistically, an (almost) full-on greedy approach works best in this case."
   ]
  },
  {
   "cell_type": "code",
   "execution_count": 5,
   "metadata": {},
   "outputs": [
    {
     "name": "stdout",
     "output_type": "stream",
     "text": [
      "average (over samples) optimal value/step: 1.532612\n",
      "epsilon: 0\n",
      "After 500 steps, we (on average) predict a value/step of 1.498202, (97.8% optimal)\n",
      "average (over samples) optimal value/step: 1.524053\n",
      "epsilon: 0.01\n",
      "After 500 steps, we (on average) predict a value/step of 1.478753, (97.0% optimal)\n",
      "average (over samples) optimal value/step: 1.545518\n",
      "epsilon: 0.05\n",
      "After 500 steps, we (on average) predict a value/step of 1.479365, (95.7% optimal)\n",
      "average (over samples) optimal value/step: 1.513763\n",
      "epsilon: 0.1\n",
      "After 500 steps, we (on average) predict a value/step of 1.405776, (92.9% optimal)\n"
     ]
    }
   ],
   "source": [
    "# testing the better bandits on optimistic initial values with constant learning rate of 0.1\n",
    "for eps in epsilons[:4]:\n",
    "    eps_greedy_bandit.test(n, stepsize=stepsize, samples=samples, epochs=epochs, verbose=0, eps=eps, learn_type='constant-rate', alpha=0.1, optimistic=True)\n",
    "\n",
    "# observation: again, an all-out greedy approach is best."
   ]
  },
  {
   "cell_type": "code",
   "execution_count": 7,
   "metadata": {},
   "outputs": [
    {
     "name": "stdout",
     "output_type": "stream",
     "text": [
      "average (over samples) optimal value/step: 1.546293\n",
      "c: 0.3\n",
      "After 500 steps, we (on average) predict a value/step of 1.480778, (95.8% optimal)\n",
      "average (over samples) optimal value/step: 1.530956\n",
      "c: 0.5\n",
      "After 500 steps, we (on average) predict a value/step of 1.505425, (98.3% optimal)\n",
      "average (over samples) optimal value/step: 1.561422\n",
      "c: 0.8\n",
      "After 500 steps, we (on average) predict a value/step of 1.546213, (99.0% optimal)\n",
      "average (over samples) optimal value/step: 1.549962\n",
      "c: 1\n",
      "After 500 steps, we (on average) predict a value/step of 1.525886, (98.4% optimal)\n",
      "average (over samples) optimal value/step: 1.554072\n",
      "c: 1.2\n",
      "After 500 steps, we (on average) predict a value/step of 1.524412, (98.1% optimal)\n"
     ]
    }
   ],
   "source": [
    "# testing the UCB bandit for different values of c. The learning type is the sample mean.\n",
    "cs = [0.3, 0.5, 0.8, 1, 1.2]\n",
    "for c in cs:\n",
    "    ucb_bandit.test(n, stepsize=stepsize, samples=samples, epochs=epochs, verbose=0, learn_type='sample-average', c=c) # we don't need optimistic when we're using a ucb bandit\n",
    "\n",
    "# observation: takes much longer to complete because of increased calculation (more than double), but accuracy better than everything else.\n",
    "# we are able to match the curve shape as given in the text"
   ]
  },
  {
   "cell_type": "code",
   "execution_count": 8,
   "metadata": {},
   "outputs": [
    {
     "name": "stdout",
     "output_type": "stream",
     "text": [
      "average (over samples) optimal value/step: 1.525328\n",
      "c: 0.3\n",
      "After 500 steps, we (on average) predict a value/step of 1.462743, (95.9% optimal)\n",
      "average (over samples) optimal value/step: 1.572760\n",
      "c: 0.5\n",
      "After 500 steps, we (on average) predict a value/step of 1.518459, (96.5% optimal)\n",
      "average (over samples) optimal value/step: 1.522488\n",
      "c: 0.8\n",
      "After 500 steps, we (on average) predict a value/step of 1.432741, (94.1% optimal)\n",
      "average (over samples) optimal value/step: 1.524126\n",
      "c: 1\n",
      "After 500 steps, we (on average) predict a value/step of 1.416996, (93.0% optimal)\n",
      "average (over samples) optimal value/step: 1.544558\n",
      "c: 1.2\n",
      "After 500 steps, we (on average) predict a value/step of 1.415037, (91.6% optimal)\n"
     ]
    }
   ],
   "source": [
    "# testing the UCB bandit for different values of c with learning type being constant rate, alpha = 0.1.\n",
    "for c in cs:\n",
    "    ucb_bandit.test(n, stepsize=stepsize, samples=samples, epochs=epochs, verbose=0, learn_type='constant-rate', alpha=0.1, c=c) # we don't need optimistic when we're using a ucb bandit\n",
    "\n",
    "# observation: not as good as sample-average ucb, but pretty good. Curve same as that of ucb."
   ]
  }
 ],
 "metadata": {
  "kernelspec": {
   "display_name": "Python 3",
   "language": "python",
   "name": "python3"
  },
  "language_info": {
   "codemirror_mode": {
    "name": "ipython",
    "version": 3
   },
   "file_extension": ".py",
   "mimetype": "text/x-python",
   "name": "python",
   "nbconvert_exporter": "python",
   "pygments_lexer": "ipython3",
   "version": "3.10.8"
  },
  "orig_nbformat": 4,
  "vscode": {
   "interpreter": {
    "hash": "b0fa6594d8f4cbf19f97940f81e996739fb7646882a419484c72d19e05852a7e"
   }
  }
 },
 "nbformat": 4,
 "nbformat_minor": 2
}
